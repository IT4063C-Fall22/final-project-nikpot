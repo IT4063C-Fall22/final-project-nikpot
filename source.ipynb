{
 "cells": [
  {
   "cell_type": "markdown",
   "metadata": {},
   "source": [
    "# Project Title"
   ]
  },
  {
   "cell_type": "markdown",
   "metadata": {},
   "source": [
    "## Topic\n",
    "How COVID has impacted the different facets of the economy like unemployment, GDP, consumer price levels, inflation and trade balance? These are the different factors I will be looking at to limit the scope of the project \n",
    "\n",
    "## Project Question\n",
    "The aftermath of the COVID -19 pandemic gave rise to one of the biggest economic collapses in recent history but how exactly did various parameters fare during this period and how do they affect our everyday life? Why do we say there was an “economic recession”? Which factors played a greater hand in this recession? Why did these numbers change during the pandemic? Are any of these inter-related? I aim to answer all of these questions\n",
    "\n",
    "## What would an answer look like?\n",
    "Graphs and visulisations about the parameters mentioned above which show a chnage during COVID - 19. Then a breif explanation about the causes for this. Do a corelation between the factors. \n",
    "\n",
    "## Data Sources\n",
    "https://www.bls.gov/charts/employment-situation/civilian-unemployment-rate.htm\n",
    "https://data.worldbank.org/indicator/NY.GDP.MKTP.KD.ZG\n",
    "https://www.mossadams.com/articles/2021/04/new-data-sets-in-the-covid-19-economy\n",
    "https://www.chicagofed.org/publications/economic-perspectives/2019/1\n",
    "Need to find more\n",
    "The timeframe will be the most important key to group all the relevant data I need.\n",
    "GDP and unemployment data will help with explaining when the recession started and how it impacted people. Calculate a benchmark and compare the data.  "
   ]
  },
  {
   "cell_type": "code",
   "execution_count": null,
   "metadata": {},
   "outputs": [],
   "source": []
  },
  {
   "cell_type": "code",
   "execution_count": null,
   "metadata": {},
   "outputs": [],
   "source": [
    "# Start your code here"
   ]
  }
 ],
 "metadata": {
  "kernelspec": {
   "display_name": "Python 3 (ipykernel)",
   "language": "python",
   "name": "python3"
  },
  "language_info": {
   "codemirror_mode": {
    "name": "ipython",
    "version": 3
   },
   "file_extension": ".py",
   "mimetype": "text/x-python",
   "name": "python",
   "nbconvert_exporter": "python",
   "pygments_lexer": "ipython3",
   "version": "3.9.12"
  },
  "vscode": {
   "interpreter": {
    "hash": "7734e43dd536b5e02e3115303df8b362ef1a9d3876915ee490824d9f1e5197ff"
   }
  }
 },
 "nbformat": 4,
 "nbformat_minor": 4
}
